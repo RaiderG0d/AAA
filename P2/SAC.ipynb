{
 "cells": [
  {
   "cell_type": "code",
   "execution_count": 31,
   "metadata": {},
   "outputs": [
    {
     "name": "stderr",
     "output_type": "stream",
     "text": [
      "/opt/anaconda3/envs/TPML/lib/python3.11/pty.py:89: RuntimeWarning: os.fork() was called. os.fork() is incompatible with multithreaded code, and JAX is multithreaded, so this will likely lead to a deadlock.\n",
      "  pid, fd = os.forkpty()\n"
     ]
    },
    {
     "name": "stdout",
     "output_type": "stream",
     "text": [
      "Requirement already satisfied: gymnax in /opt/anaconda3/envs/TPML/lib/python3.11/site-packages (0.0.8)\n",
      "Requirement already satisfied: jax in /opt/anaconda3/envs/TPML/lib/python3.11/site-packages (from gymnax) (0.4.38)\n",
      "Requirement already satisfied: jaxlib in /opt/anaconda3/envs/TPML/lib/python3.11/site-packages (from gymnax) (0.4.38)\n",
      "Requirement already satisfied: chex in /opt/anaconda3/envs/TPML/lib/python3.11/site-packages (from gymnax) (0.1.88)\n",
      "Requirement already satisfied: flax in /opt/anaconda3/envs/TPML/lib/python3.11/site-packages (from gymnax) (0.10.2)\n",
      "Requirement already satisfied: pyyaml in /opt/anaconda3/envs/TPML/lib/python3.11/site-packages (from gymnax) (6.0.2)\n",
      "Requirement already satisfied: gym>=0.26 in /opt/anaconda3/envs/TPML/lib/python3.11/site-packages (from gymnax) (0.26.2)\n",
      "Requirement already satisfied: gymnasium in /opt/anaconda3/envs/TPML/lib/python3.11/site-packages (from gymnax) (1.0.0)\n",
      "Requirement already satisfied: matplotlib in /opt/anaconda3/envs/TPML/lib/python3.11/site-packages (from gymnax) (3.9.4)\n",
      "Requirement already satisfied: seaborn in /opt/anaconda3/envs/TPML/lib/python3.11/site-packages (from gymnax) (0.13.2)\n",
      "Requirement already satisfied: numpy>=1.18.0 in /opt/anaconda3/envs/TPML/lib/python3.11/site-packages (from gym>=0.26->gymnax) (2.0.2)\n",
      "Requirement already satisfied: cloudpickle>=1.2.0 in /opt/anaconda3/envs/TPML/lib/python3.11/site-packages (from gym>=0.26->gymnax) (3.1.0)\n",
      "Requirement already satisfied: gym_notices>=0.0.4 in /opt/anaconda3/envs/TPML/lib/python3.11/site-packages (from gym>=0.26->gymnax) (0.0.8)\n",
      "Requirement already satisfied: absl-py>=0.9.0 in /opt/anaconda3/envs/TPML/lib/python3.11/site-packages (from chex->gymnax) (2.1.0)\n",
      "Requirement already satisfied: typing_extensions>=4.2.0 in /opt/anaconda3/envs/TPML/lib/python3.11/site-packages (from chex->gymnax) (4.12.2)\n",
      "Requirement already satisfied: toolz>=0.9.0 in /opt/anaconda3/envs/TPML/lib/python3.11/site-packages (from chex->gymnax) (1.0.0)\n",
      "Requirement already satisfied: ml_dtypes>=0.4.0 in /opt/anaconda3/envs/TPML/lib/python3.11/site-packages (from jax->gymnax) (0.5.0)\n",
      "Requirement already satisfied: opt_einsum in /opt/anaconda3/envs/TPML/lib/python3.11/site-packages (from jax->gymnax) (3.4.0)\n",
      "Requirement already satisfied: scipy>=1.10 in /opt/anaconda3/envs/TPML/lib/python3.11/site-packages (from jax->gymnax) (1.13.1)\n",
      "Requirement already satisfied: msgpack in /opt/anaconda3/envs/TPML/lib/python3.11/site-packages (from flax->gymnax) (1.1.0)\n",
      "Requirement already satisfied: optax in /opt/anaconda3/envs/TPML/lib/python3.11/site-packages (from flax->gymnax) (0.2.4)\n",
      "Requirement already satisfied: orbax-checkpoint in /opt/anaconda3/envs/TPML/lib/python3.11/site-packages (from flax->gymnax) (0.10.3)\n",
      "Requirement already satisfied: tensorstore in /opt/anaconda3/envs/TPML/lib/python3.11/site-packages (from flax->gymnax) (0.1.71)\n",
      "Requirement already satisfied: rich>=11.1 in /opt/anaconda3/envs/TPML/lib/python3.11/site-packages (from flax->gymnax) (13.9.4)\n",
      "Requirement already satisfied: farama-notifications>=0.0.1 in /opt/anaconda3/envs/TPML/lib/python3.11/site-packages (from gymnasium->gymnax) (0.0.4)\n",
      "Requirement already satisfied: contourpy>=1.0.1 in /opt/anaconda3/envs/TPML/lib/python3.11/site-packages (from matplotlib->gymnax) (1.3.1)\n",
      "Requirement already satisfied: cycler>=0.10 in /opt/anaconda3/envs/TPML/lib/python3.11/site-packages (from matplotlib->gymnax) (0.12.1)\n",
      "Requirement already satisfied: fonttools>=4.22.0 in /opt/anaconda3/envs/TPML/lib/python3.11/site-packages (from matplotlib->gymnax) (4.55.3)\n",
      "Requirement already satisfied: kiwisolver>=1.3.1 in /opt/anaconda3/envs/TPML/lib/python3.11/site-packages (from matplotlib->gymnax) (1.4.7)\n",
      "Requirement already satisfied: packaging>=20.0 in /opt/anaconda3/envs/TPML/lib/python3.11/site-packages (from matplotlib->gymnax) (24.2)\n",
      "Requirement already satisfied: pillow>=8 in /opt/anaconda3/envs/TPML/lib/python3.11/site-packages (from matplotlib->gymnax) (10.3.0)\n",
      "Requirement already satisfied: pyparsing>=2.3.1 in /opt/anaconda3/envs/TPML/lib/python3.11/site-packages (from matplotlib->gymnax) (3.2.0)\n",
      "Requirement already satisfied: python-dateutil>=2.7 in /opt/anaconda3/envs/TPML/lib/python3.11/site-packages (from matplotlib->gymnax) (2.9.0.post0)\n",
      "Requirement already satisfied: pandas>=1.2 in /opt/anaconda3/envs/TPML/lib/python3.11/site-packages (from seaborn->gymnax) (2.2.3)\n",
      "Requirement already satisfied: pytz>=2020.1 in /opt/anaconda3/envs/TPML/lib/python3.11/site-packages (from pandas>=1.2->seaborn->gymnax) (2024.1)\n",
      "Requirement already satisfied: tzdata>=2022.7 in /opt/anaconda3/envs/TPML/lib/python3.11/site-packages (from pandas>=1.2->seaborn->gymnax) (2024.2)\n",
      "Requirement already satisfied: six>=1.5 in /opt/anaconda3/envs/TPML/lib/python3.11/site-packages (from python-dateutil>=2.7->matplotlib->gymnax) (1.17.0)\n",
      "Requirement already satisfied: markdown-it-py>=2.2.0 in /opt/anaconda3/envs/TPML/lib/python3.11/site-packages (from rich>=11.1->flax->gymnax) (3.0.0)\n",
      "Requirement already satisfied: pygments<3.0.0,>=2.13.0 in /opt/anaconda3/envs/TPML/lib/python3.11/site-packages (from rich>=11.1->flax->gymnax) (2.18.0)\n",
      "Requirement already satisfied: etils[epy] in /opt/anaconda3/envs/TPML/lib/python3.11/site-packages (from optax->flax->gymnax) (1.11.0)\n",
      "Requirement already satisfied: nest_asyncio in /opt/anaconda3/envs/TPML/lib/python3.11/site-packages (from orbax-checkpoint->flax->gymnax) (1.6.0)\n",
      "Requirement already satisfied: protobuf in /opt/anaconda3/envs/TPML/lib/python3.11/site-packages (from orbax-checkpoint->flax->gymnax) (5.29.2)\n",
      "Requirement already satisfied: humanize in /opt/anaconda3/envs/TPML/lib/python3.11/site-packages (from orbax-checkpoint->flax->gymnax) (4.11.0)\n",
      "Requirement already satisfied: simplejson>=3.16.0 in /opt/anaconda3/envs/TPML/lib/python3.11/site-packages (from orbax-checkpoint->flax->gymnax) (3.19.3)\n",
      "Requirement already satisfied: mdurl~=0.1 in /opt/anaconda3/envs/TPML/lib/python3.11/site-packages (from markdown-it-py>=2.2.0->rich>=11.1->flax->gymnax) (0.1.2)\n",
      "Requirement already satisfied: fsspec in /opt/anaconda3/envs/TPML/lib/python3.11/site-packages (from etils[epath,epy]->orbax-checkpoint->flax->gymnax) (2024.12.0)\n",
      "Requirement already satisfied: importlib_resources in /opt/anaconda3/envs/TPML/lib/python3.11/site-packages (from etils[epath,epy]->orbax-checkpoint->flax->gymnax) (6.4.5)\n",
      "Requirement already satisfied: zipp in /opt/anaconda3/envs/TPML/lib/python3.11/site-packages (from etils[epath,epy]->orbax-checkpoint->flax->gymnax) (3.21.0)\n",
      "Note: you may need to restart the kernel to use updated packages.\n"
     ]
    }
   ],
   "source": [
    "pip install gymnax"
   ]
  },
  {
   "cell_type": "code",
   "execution_count": 32,
   "metadata": {},
   "outputs": [
    {
     "name": "stdout",
     "output_type": "stream",
     "text": [
      "Requirement already satisfied: distrax in /opt/anaconda3/envs/TPML/lib/python3.11/site-packages (0.1.5)\n",
      "Requirement already satisfied: absl-py>=0.9.0 in /opt/anaconda3/envs/TPML/lib/python3.11/site-packages (from distrax) (2.1.0)\n",
      "Requirement already satisfied: chex>=0.1.8 in /opt/anaconda3/envs/TPML/lib/python3.11/site-packages (from distrax) (0.1.88)\n",
      "Requirement already satisfied: jax>=0.1.55 in /opt/anaconda3/envs/TPML/lib/python3.11/site-packages (from distrax) (0.4.38)\n",
      "Requirement already satisfied: jaxlib>=0.1.67 in /opt/anaconda3/envs/TPML/lib/python3.11/site-packages (from distrax) (0.4.38)\n",
      "Requirement already satisfied: numpy>=1.23.0 in /opt/anaconda3/envs/TPML/lib/python3.11/site-packages (from distrax) (2.0.2)\n",
      "Requirement already satisfied: tensorflow-probability>=0.15.0 in /opt/anaconda3/envs/TPML/lib/python3.11/site-packages (from distrax) (0.25.0)\n",
      "Requirement already satisfied: typing_extensions>=4.2.0 in /opt/anaconda3/envs/TPML/lib/python3.11/site-packages (from chex>=0.1.8->distrax) (4.12.2)\n",
      "Requirement already satisfied: toolz>=0.9.0 in /opt/anaconda3/envs/TPML/lib/python3.11/site-packages (from chex>=0.1.8->distrax) (1.0.0)\n",
      "Requirement already satisfied: ml_dtypes>=0.4.0 in /opt/anaconda3/envs/TPML/lib/python3.11/site-packages (from jax>=0.1.55->distrax) (0.5.0)\n",
      "Requirement already satisfied: opt_einsum in /opt/anaconda3/envs/TPML/lib/python3.11/site-packages (from jax>=0.1.55->distrax) (3.4.0)\n",
      "Requirement already satisfied: scipy>=1.10 in /opt/anaconda3/envs/TPML/lib/python3.11/site-packages (from jax>=0.1.55->distrax) (1.13.1)\n",
      "Requirement already satisfied: six>=1.10.0 in /opt/anaconda3/envs/TPML/lib/python3.11/site-packages (from tensorflow-probability>=0.15.0->distrax) (1.17.0)\n",
      "Requirement already satisfied: decorator in /opt/anaconda3/envs/TPML/lib/python3.11/site-packages (from tensorflow-probability>=0.15.0->distrax) (5.1.1)\n",
      "Requirement already satisfied: cloudpickle>=1.3 in /opt/anaconda3/envs/TPML/lib/python3.11/site-packages (from tensorflow-probability>=0.15.0->distrax) (3.1.0)\n",
      "Requirement already satisfied: gast>=0.3.2 in /opt/anaconda3/envs/TPML/lib/python3.11/site-packages (from tensorflow-probability>=0.15.0->distrax) (0.6.0)\n",
      "Requirement already satisfied: dm-tree in /opt/anaconda3/envs/TPML/lib/python3.11/site-packages (from tensorflow-probability>=0.15.0->distrax) (0.1.8)\n",
      "Note: you may need to restart the kernel to use updated packages.\n"
     ]
    }
   ],
   "source": [
    "pip install distrax"
   ]
  },
  {
   "cell_type": "code",
   "execution_count": 33,
   "metadata": {},
   "outputs": [
    {
     "name": "stdout",
     "output_type": "stream",
     "text": [
      "Requirement already satisfied: chex in /opt/anaconda3/envs/TPML/lib/python3.11/site-packages (0.1.88)\n",
      "Requirement already satisfied: absl-py>=0.9.0 in /opt/anaconda3/envs/TPML/lib/python3.11/site-packages (from chex) (2.1.0)\n",
      "Requirement already satisfied: typing_extensions>=4.2.0 in /opt/anaconda3/envs/TPML/lib/python3.11/site-packages (from chex) (4.12.2)\n",
      "Requirement already satisfied: jax>=0.4.27 in /opt/anaconda3/envs/TPML/lib/python3.11/site-packages (from chex) (0.4.38)\n",
      "Requirement already satisfied: jaxlib>=0.4.27 in /opt/anaconda3/envs/TPML/lib/python3.11/site-packages (from chex) (0.4.38)\n",
      "Requirement already satisfied: numpy>=1.24.1 in /opt/anaconda3/envs/TPML/lib/python3.11/site-packages (from chex) (2.0.2)\n",
      "Requirement already satisfied: toolz>=0.9.0 in /opt/anaconda3/envs/TPML/lib/python3.11/site-packages (from chex) (1.0.0)\n",
      "Requirement already satisfied: ml_dtypes>=0.4.0 in /opt/anaconda3/envs/TPML/lib/python3.11/site-packages (from jax>=0.4.27->chex) (0.5.0)\n",
      "Requirement already satisfied: opt_einsum in /opt/anaconda3/envs/TPML/lib/python3.11/site-packages (from jax>=0.4.27->chex) (3.4.0)\n",
      "Requirement already satisfied: scipy>=1.10 in /opt/anaconda3/envs/TPML/lib/python3.11/site-packages (from jax>=0.4.27->chex) (1.13.1)\n",
      "Note: you may need to restart the kernel to use updated packages.\n"
     ]
    }
   ],
   "source": [
    "pip install chex"
   ]
  },
  {
   "cell_type": "code",
   "execution_count": 34,
   "metadata": {},
   "outputs": [
    {
     "name": "stdout",
     "output_type": "stream",
     "text": [
      "Requirement already satisfied: flax in /opt/anaconda3/envs/TPML/lib/python3.11/site-packages (0.10.2)\n",
      "Requirement already satisfied: jax>=0.4.27 in /opt/anaconda3/envs/TPML/lib/python3.11/site-packages (from flax) (0.4.38)\n",
      "Requirement already satisfied: msgpack in /opt/anaconda3/envs/TPML/lib/python3.11/site-packages (from flax) (1.1.0)\n",
      "Requirement already satisfied: optax in /opt/anaconda3/envs/TPML/lib/python3.11/site-packages (from flax) (0.2.4)\n",
      "Requirement already satisfied: orbax-checkpoint in /opt/anaconda3/envs/TPML/lib/python3.11/site-packages (from flax) (0.10.3)\n",
      "Requirement already satisfied: tensorstore in /opt/anaconda3/envs/TPML/lib/python3.11/site-packages (from flax) (0.1.71)\n",
      "Requirement already satisfied: rich>=11.1 in /opt/anaconda3/envs/TPML/lib/python3.11/site-packages (from flax) (13.9.4)\n",
      "Requirement already satisfied: typing-extensions>=4.2 in /opt/anaconda3/envs/TPML/lib/python3.11/site-packages (from flax) (4.12.2)\n",
      "Requirement already satisfied: PyYAML>=5.4.1 in /opt/anaconda3/envs/TPML/lib/python3.11/site-packages (from flax) (6.0.2)\n",
      "Requirement already satisfied: numpy>=1.23.2 in /opt/anaconda3/envs/TPML/lib/python3.11/site-packages (from flax) (2.0.2)\n",
      "Requirement already satisfied: jaxlib<=0.4.38,>=0.4.38 in /opt/anaconda3/envs/TPML/lib/python3.11/site-packages (from jax>=0.4.27->flax) (0.4.38)\n",
      "Requirement already satisfied: ml_dtypes>=0.4.0 in /opt/anaconda3/envs/TPML/lib/python3.11/site-packages (from jax>=0.4.27->flax) (0.5.0)\n",
      "Requirement already satisfied: opt_einsum in /opt/anaconda3/envs/TPML/lib/python3.11/site-packages (from jax>=0.4.27->flax) (3.4.0)\n",
      "Requirement already satisfied: scipy>=1.10 in /opt/anaconda3/envs/TPML/lib/python3.11/site-packages (from jax>=0.4.27->flax) (1.13.1)\n",
      "Requirement already satisfied: markdown-it-py>=2.2.0 in /opt/anaconda3/envs/TPML/lib/python3.11/site-packages (from rich>=11.1->flax) (3.0.0)\n",
      "Requirement already satisfied: pygments<3.0.0,>=2.13.0 in /opt/anaconda3/envs/TPML/lib/python3.11/site-packages (from rich>=11.1->flax) (2.18.0)\n",
      "Requirement already satisfied: absl-py>=0.7.1 in /opt/anaconda3/envs/TPML/lib/python3.11/site-packages (from optax->flax) (2.1.0)\n",
      "Requirement already satisfied: chex>=0.1.87 in /opt/anaconda3/envs/TPML/lib/python3.11/site-packages (from optax->flax) (0.1.88)\n",
      "Requirement already satisfied: etils[epy] in /opt/anaconda3/envs/TPML/lib/python3.11/site-packages (from optax->flax) (1.11.0)\n",
      "Requirement already satisfied: nest_asyncio in /opt/anaconda3/envs/TPML/lib/python3.11/site-packages (from orbax-checkpoint->flax) (1.6.0)\n",
      "Requirement already satisfied: protobuf in /opt/anaconda3/envs/TPML/lib/python3.11/site-packages (from orbax-checkpoint->flax) (5.29.2)\n",
      "Requirement already satisfied: humanize in /opt/anaconda3/envs/TPML/lib/python3.11/site-packages (from orbax-checkpoint->flax) (4.11.0)\n",
      "Requirement already satisfied: simplejson>=3.16.0 in /opt/anaconda3/envs/TPML/lib/python3.11/site-packages (from orbax-checkpoint->flax) (3.19.3)\n",
      "Requirement already satisfied: toolz>=0.9.0 in /opt/anaconda3/envs/TPML/lib/python3.11/site-packages (from chex>=0.1.87->optax->flax) (1.0.0)\n",
      "Requirement already satisfied: mdurl~=0.1 in /opt/anaconda3/envs/TPML/lib/python3.11/site-packages (from markdown-it-py>=2.2.0->rich>=11.1->flax) (0.1.2)\n",
      "Requirement already satisfied: fsspec in /opt/anaconda3/envs/TPML/lib/python3.11/site-packages (from etils[epath,epy]->orbax-checkpoint->flax) (2024.12.0)\n",
      "Requirement already satisfied: importlib_resources in /opt/anaconda3/envs/TPML/lib/python3.11/site-packages (from etils[epath,epy]->orbax-checkpoint->flax) (6.4.5)\n",
      "Requirement already satisfied: zipp in /opt/anaconda3/envs/TPML/lib/python3.11/site-packages (from etils[epath,epy]->orbax-checkpoint->flax) (3.21.0)\n",
      "Note: you may need to restart the kernel to use updated packages.\n"
     ]
    }
   ],
   "source": [
    "pip install flax"
   ]
  },
  {
   "cell_type": "code",
   "execution_count": 35,
   "metadata": {},
   "outputs": [
    {
     "name": "stdout",
     "output_type": "stream",
     "text": [
      "Requirement already satisfied: optax in /opt/anaconda3/envs/TPML/lib/python3.11/site-packages (0.2.4)\n",
      "Requirement already satisfied: absl-py>=0.7.1 in /opt/anaconda3/envs/TPML/lib/python3.11/site-packages (from optax) (2.1.0)\n",
      "Requirement already satisfied: chex>=0.1.87 in /opt/anaconda3/envs/TPML/lib/python3.11/site-packages (from optax) (0.1.88)\n",
      "Requirement already satisfied: jax>=0.4.27 in /opt/anaconda3/envs/TPML/lib/python3.11/site-packages (from optax) (0.4.38)\n",
      "Requirement already satisfied: jaxlib>=0.4.27 in /opt/anaconda3/envs/TPML/lib/python3.11/site-packages (from optax) (0.4.38)\n",
      "Requirement already satisfied: numpy>=1.18.0 in /opt/anaconda3/envs/TPML/lib/python3.11/site-packages (from optax) (2.0.2)\n",
      "Requirement already satisfied: etils[epy] in /opt/anaconda3/envs/TPML/lib/python3.11/site-packages (from optax) (1.11.0)\n",
      "Requirement already satisfied: typing_extensions>=4.2.0 in /opt/anaconda3/envs/TPML/lib/python3.11/site-packages (from chex>=0.1.87->optax) (4.12.2)\n",
      "Requirement already satisfied: toolz>=0.9.0 in /opt/anaconda3/envs/TPML/lib/python3.11/site-packages (from chex>=0.1.87->optax) (1.0.0)\n",
      "Requirement already satisfied: ml_dtypes>=0.4.0 in /opt/anaconda3/envs/TPML/lib/python3.11/site-packages (from jax>=0.4.27->optax) (0.5.0)\n",
      "Requirement already satisfied: opt_einsum in /opt/anaconda3/envs/TPML/lib/python3.11/site-packages (from jax>=0.4.27->optax) (3.4.0)\n",
      "Requirement already satisfied: scipy>=1.10 in /opt/anaconda3/envs/TPML/lib/python3.11/site-packages (from jax>=0.4.27->optax) (1.13.1)\n",
      "Note: you may need to restart the kernel to use updated packages.\n"
     ]
    }
   ],
   "source": [
    "pip install optax"
   ]
  },
  {
   "cell_type": "code",
   "execution_count": 36,
   "metadata": {},
   "outputs": [
    {
     "name": "stdout",
     "output_type": "stream",
     "text": [
      "Requirement already satisfied: jax in /opt/anaconda3/envs/TPML/lib/python3.11/site-packages (0.4.38)\n",
      "Requirement already satisfied: jaxlib<=0.4.38,>=0.4.38 in /opt/anaconda3/envs/TPML/lib/python3.11/site-packages (from jax) (0.4.38)\n",
      "Requirement already satisfied: ml_dtypes>=0.4.0 in /opt/anaconda3/envs/TPML/lib/python3.11/site-packages (from jax) (0.5.0)\n",
      "Requirement already satisfied: numpy>=1.24 in /opt/anaconda3/envs/TPML/lib/python3.11/site-packages (from jax) (2.0.2)\n",
      "Requirement already satisfied: opt_einsum in /opt/anaconda3/envs/TPML/lib/python3.11/site-packages (from jax) (3.4.0)\n",
      "Requirement already satisfied: scipy>=1.10 in /opt/anaconda3/envs/TPML/lib/python3.11/site-packages (from jax) (1.13.1)\n",
      "Note: you may need to restart the kernel to use updated packages.\n"
     ]
    }
   ],
   "source": [
    "pip install jax"
   ]
  },
  {
   "cell_type": "code",
   "execution_count": 58,
   "metadata": {},
   "outputs": [],
   "source": [
    "import gymnax"
   ]
  },
  {
   "cell_type": "code",
   "execution_count": 59,
   "metadata": {},
   "outputs": [
    {
     "data": {
      "text/plain": [
       "['CartPole-v1',\n",
       " 'Pendulum-v1',\n",
       " 'Acrobot-v1',\n",
       " 'MountainCar-v0',\n",
       " 'MountainCarContinuous-v0',\n",
       " 'Asterix-MinAtar',\n",
       " 'Breakout-MinAtar',\n",
       " 'Freeway-MinAtar',\n",
       " 'SpaceInvaders-MinAtar',\n",
       " 'Catch-bsuite',\n",
       " 'DeepSea-bsuite',\n",
       " 'MemoryChain-bsuite',\n",
       " 'UmbrellaChain-bsuite',\n",
       " 'DiscountingChain-bsuite',\n",
       " 'MNISTBandit-bsuite',\n",
       " 'SimpleBandit-bsuite',\n",
       " 'FourRooms-misc',\n",
       " 'MetaMaze-misc',\n",
       " 'PointRobot-misc',\n",
       " 'BernoulliBandit-misc',\n",
       " 'GaussianBandit-misc',\n",
       " 'Reacher-misc',\n",
       " 'Swimmer-misc',\n",
       " 'Pong-misc']"
      ]
     },
     "execution_count": 59,
     "metadata": {},
     "output_type": "execute_result"
    }
   ],
   "source": [
    "gymnax.registered_envs"
   ]
  },
  {
   "cell_type": "code",
   "execution_count": 60,
   "metadata": {},
   "outputs": [
    {
     "name": "stdout",
     "output_type": "stream",
     "text": [
      "Environment parameters: EnvParams(max_steps_in_episode=999, min_action=-1.0, max_action=1.0, min_position=-1.2, max_position=0.6, max_speed=0.07, goal_position=0.45, goal_velocity=0.0, power=0.0015, gravity=0.0025)\n"
     ]
    }
   ],
   "source": [
    "import jax\n",
    "\n",
    "rng = jax.random.PRNGKey(0)\n",
    "rng, key_reset, key_policy, key_step = jax.random.split(rng, 4)\n",
    "\n",
    "# create the CartPole-v1 environment\n",
    "env, env_params = gymnax.make('MountainCarContinuous-v0')\n",
    "# inspect default environment settings\n",
    "print(\"Environment parameters:\", env_params)"
   ]
  },
  {
   "cell_type": "code",
   "execution_count": 61,
   "metadata": {},
   "outputs": [
    {
     "name": "stdout",
     "output_type": "stream",
     "text": [
      "Action Space Size: 1\n"
     ]
    }
   ],
   "source": [
    "# Verify observation and action space\n",
    "print(\"Action Space Size:\", env.num_actions)"
   ]
  },
  {
   "cell_type": "code",
   "execution_count": 62,
   "metadata": {},
   "outputs": [
    {
     "data": {
      "text/plain": [
       "(2,)"
      ]
     },
     "execution_count": 62,
     "metadata": {},
     "output_type": "execute_result"
    }
   ],
   "source": [
    "# observation space dimensionality\n",
    "env.observation_space(env_params).shape"
   ]
  },
  {
   "cell_type": "code",
   "execution_count": 63,
   "metadata": {},
   "outputs": [
    {
     "data": {
      "text/plain": [
       "(Array([-0.58275205,  0.        ], dtype=float32),\n",
       " EnvState(time=Array(0, dtype=int32, weak_type=True), position=Array(-0.58275205, dtype=float32), velocity=Array(0., dtype=float32, weak_type=True)))"
      ]
     },
     "execution_count": 63,
     "metadata": {},
     "output_type": "execute_result"
    }
   ],
   "source": [
    "obs, state = env.reset(key_reset, env_params)\n",
    "obs, state"
   ]
  },
  {
   "cell_type": "code",
   "execution_count": 64,
   "metadata": {},
   "outputs": [
    {
     "data": {
      "text/plain": [
       "(Array([-0.5808441 ,  0.00190795], dtype=float32),\n",
       " EnvState(time=Array(1, dtype=int32, weak_type=True), position=Array(-0.5808441, dtype=float32), velocity=Array(0.00190795, dtype=float32)),\n",
       " Array(-0.09559999, dtype=float32),\n",
       " Array(False, dtype=bool))"
      ]
     },
     "execution_count": 64,
     "metadata": {},
     "output_type": "execute_result"
    }
   ],
   "source": [
    "action = env.action_space(env_params).sample(key_policy)\n",
    "n_obs, n_state, reward, done, _ = env.step(key_step, state, action, env_params)\n",
    "n_obs, n_state, reward, done"
   ]
  },
  {
   "cell_type": "code",
   "execution_count": 65,
   "metadata": {},
   "outputs": [],
   "source": [
    "obs, state = env.reset(key_reset)\n",
    "action = env.action_space().sample(key_policy)\n",
    "n_obs, n_state, reward, done, _ = env.step(key_step, state, action)"
   ]
  },
  {
   "cell_type": "code",
   "execution_count": 66,
   "metadata": {},
   "outputs": [
    {
     "name": "stdout",
     "output_type": "stream",
     "text": [
      "(8, 2)\n"
     ]
    }
   ],
   "source": [
    "vmap_reset = jax.vmap(env.reset, in_axes=(0, None))\n",
    "vmap_step = jax.vmap(env.step, in_axes=(0, 0, 0, None))\n",
    "\n",
    "num_envs = 8\n",
    "vmap_keys = jax.random.split(rng, num_envs)\n",
    "\n",
    "obs, state = vmap_reset(vmap_keys, env_params)\n",
    "n_obs, n_state, reward, done, _ = vmap_step(vmap_keys, state, jax.numpy.zeros(num_envs), env_params)\n",
    "print(n_obs.shape)"
   ]
  },
  {
   "cell_type": "code",
   "execution_count": 5,
   "metadata": {},
   "outputs": [],
   "source": [
    "import time\n",
    "from RLinJAX import *"
   ]
  },
  {
   "cell_type": "code",
   "execution_count": 68,
   "metadata": {},
   "outputs": [
    {
     "data": {
      "text/plain": [
       "[CpuDevice(id=0)]"
      ]
     },
     "execution_count": 68,
     "metadata": {},
     "output_type": "execute_result"
    }
   ],
   "source": [
    "jax.devices()"
   ]
  },
  {
   "cell_type": "code",
   "execution_count": 69,
   "metadata": {},
   "outputs": [
    {
     "data": {
      "text/plain": [
       "{'env': <gymnax.environments.classic_control.mountain_car.MountainCar at 0x3355dafd0>,\n",
       " 'env_params': {'max_steps_in_episode': 200,\n",
       "  'min_position': -1.2,\n",
       "  'max_position': 0.6,\n",
       "  'max_speed': 0.07,\n",
       "  'goal_position': 0.5,\n",
       "  'goal_velocity': 0.0,\n",
       "  'force': 0.001,\n",
       "  'gravity': 0.0025},\n",
       " 'eval_callback': <function RLinJAX.algos.algorithm.Algorithm.create.<locals>.eval_callback(algo, ts, rng)>,\n",
       " 'eval_freq': 4096,\n",
       " 'skip_initial_evaluation': False,\n",
       " 'total_timesteps': 131072,\n",
       " 'learning_rate': 0.0003,\n",
       " 'gamma': 0.99,\n",
       " 'max_grad_norm': inf,\n",
       " 'target_update_freq': 1,\n",
       " 'polyak': 0.99,\n",
       " 'normalize_observations': False,\n",
       " 'num_envs': 1,\n",
       " 'buffer_size': 131072,\n",
       " 'fill_buffer': 2048,\n",
       " 'batch_size': 256,\n",
       " 'actor': {'action_dim': 3,\n",
       "  'hidden_layer_sizes': (64, 64),\n",
       "  'activation': <jax._src.custom_derivatives.custom_jvp at 0x336fb13d0>,\n",
       "  'parent': None,\n",
       "  'name': None},\n",
       " 'critic': {'hidden_layer_sizes': (64, 64),\n",
       "  'activation': <jax._src.custom_derivatives.custom_jvp at 0x32ac79d50>,\n",
       "  'action_dim': 3,\n",
       "  'parent': None,\n",
       "  'name': None},\n",
       " 'num_critics': 2,\n",
       " 'num_epochs': 1,\n",
       " 'target_entropy_ratio': 0.55}"
      ]
     },
     "execution_count": 69,
     "metadata": {},
     "output_type": "execute_result"
    }
   ],
   "source": [
    "algo.config"
   ]
  },
  {
   "cell_type": "code",
   "execution_count": 70,
   "metadata": {},
   "outputs": [],
   "source": [
    "CONFIGS = {\n",
    "    'env': 'MountainCarContinuous-v0',  # Environment ID\n",
    "    'env_params': {},  # Placeholder for environment-specific parameters\n",
    "    'eval_callback': None,  # Evaluation callback (if needed)\n",
    "    'eval_freq': 10,  # Evaluate every 10 episodes\n",
    "    'skip_initial_evaluation': False,\n",
    "    'total_timesteps': 120000,  # Total timesteps for training\n",
    "    'learning_rate': 0.0003,  # Learning rate (actor/critic can be separate if needed)\n",
    "    'gamma': 0.99,  # Discount factor\n",
    "    'max_grad_norm': 10.0,  # Maximum gradient norm\n",
    "    'normalize_observations': False,  # Normalize observations if needed\n",
    "    'target_update_freq': 200,  # Target network update frequency\n",
    "    'polyak': 0.005,  # Polyak averaging coefficient\n",
    "    'num_envs': 1,  # Single environment for SAC\n",
    "    'buffer_size': 100000,  # Replay buffer size\n",
    "    'fill_buffer': 1000,  # Minimum steps to fill buffer before training\n",
    "    'batch_size': 100,  # Batch size for updates\n",
    "    'eps_start': None,  # Not used for SAC\n",
    "    'eps_end': None,  # Not used for SAC\n",
    "    'exploration_fraction': None,  # Not used for SAC\n",
    "    'num_epochs': 10,  # Number of epochs for training\n",
    "    'ddqn': False,  # Not relevant for SAC\n",
    "    'agent': 'SAC',  # Specify the SAC agent\n",
    "    'agent_kwargs': {\n",
    "        'activation': 'relu',  # Activation function\n",
    "        'target_entropy_ratio': 1,  # !!!!!!!!!!!!!!!!!\n",
    "        'num_critics': 2,  # Number of critic networks\n",
    "        'actor_lr': 0.0003,  # Actor learning rate\n",
    "        'critic_lr': 0.0003,  # Critic learning rate\n",
    "        'alpha_lr': 0.0003,  # Temperature parameter learning rate\n",
    "        'initial_alpha': 0.2,  # Initial temperature value\n",
    "        'target_entropy': None,  # Defaults to -action_dim if not set\n",
    "    }\n",
    "}\n"
   ]
  },
  {
   "cell_type": "code",
   "execution_count": 71,
   "metadata": {},
   "outputs": [],
   "source": [
    "algo_str = \"sac\" \n",
    "env_str = \"MountainCarContinuous-v0\"  \n",
    "\n",
    "algo_cls = get_algo(algo_str)\n",
    "\n",
    "algo = algo_cls.create(env=env_str, **CONFIGS.get(algo_str, {}))"
   ]
  },
  {
   "cell_type": "code",
   "execution_count": 72,
   "metadata": {},
   "outputs": [
    {
     "name": "stdout",
     "output_type": "stream",
     "text": [
      "Starting to train\n",
      "Finished training in 10.5653 seconds (12405.9 steps/second).\n"
     ]
    }
   ],
   "source": [
    "# set training seed and jit train function\n",
    "rng = jax.random.PRNGKey(0)\n",
    "train_fn = jax.jit(algo.train)\n",
    "\n",
    "print(\"Starting to train\")\n",
    "# Train\n",
    "start = time.time()\n",
    "train_state, evaluation = train_fn(rng)\n",
    "time_elapsed = time.time() - start\n",
    "\n",
    "sps = algo.total_timesteps / time_elapsed\n",
    "print(f\"Finished training in {time_elapsed:g} seconds ({sps:g} steps/second).\")"
   ]
  },
  {
   "cell_type": "code",
   "execution_count": 115,
   "metadata": {},
   "outputs": [
    {
     "data": {
      "text/plain": [
       "(Array([[999, 999, 999, ..., 999, 999, 999],\n",
       "        [999, 999, 999, ..., 999, 999, 999],\n",
       "        [999, 999, 999, ..., 999, 999, 999],\n",
       "        ...,\n",
       "        [999, 999, 999, ..., 999, 999, 999],\n",
       "        [999, 999, 999, ..., 999, 999, 999],\n",
       "        [999, 999, 999, ..., 999, 999, 999]], dtype=int32, weak_type=True),\n",
       " Array([[-33.165565  , -35.20268   , -35.77535   , ..., -34.240616  ,\n",
       "         -34.22136   , -35.19971   ],\n",
       "        [-35.62312   , -34.804546  , -34.09568   , ..., -34.647663  ,\n",
       "         -34.68889   , -35.512623  ],\n",
       "        [-31.967274  , -29.528625  , -29.388062  , ..., -29.93014   ,\n",
       "         -33.01257   , -31.232529  ],\n",
       "        ...,\n",
       "        [ -0.8744328 ,  -0.8820422 ,  -0.9971441 , ...,  -0.9323009 ,\n",
       "          -0.8898563 ,  -0.899105  ],\n",
       "        [ -0.8555738 ,  -0.82993597,  -0.8500246 , ...,  -0.8670457 ,\n",
       "          -0.95531356,  -0.8441383 ],\n",
       "        [ -0.7904207 ,  -0.75246745,  -0.7462856 , ...,  -0.8397933 ,\n",
       "          -0.68479306,  -0.7759466 ]], dtype=float32))"
      ]
     },
     "execution_count": 115,
     "metadata": {},
     "output_type": "execute_result"
    }
   ],
   "source": [
    "evaluation"
   ]
  },
  {
   "cell_type": "code",
   "execution_count": 116,
   "metadata": {},
   "outputs": [
    {
     "data": {
      "image/png": "[encoded data removed]",
      "text/plain": [
       "<Figure size 640x480 with 1 Axes>"
      ]
     },
     "metadata": {},
     "output_type": "display_data"
    }
   ],
   "source": [
    "from matplotlib import pyplot as plt\n",
    "\n",
    "episode_lengths, episode_returns = evaluation\n",
    "mean_return = episode_returns.mean(axis=1)\n",
    "\n",
    "plt.plot(jax.numpy.linspace(0, algo.total_timesteps, len(mean_return)), mean_return)\n",
    "plt.xlabel(\"Environment step\")\n",
    "plt.ylabel(\"Episodic return\")\n",
    "plt.title(f\"Training agent for {env_str} using {algo_str}\")\n",
    "plt.show()"
   ]
  },
  {
   "cell_type": "code",
   "execution_count": null,
   "metadata": {},
   "outputs": [],
   "source": []
  },
  {
   "cell_type": "code",
   "execution_count": 6,
   "metadata": {},
   "outputs": [
    {
     "name": "stdout",
     "output_type": "stream",
     "text": [
      "Environment parameters: EnvParams(max_steps_in_episode=200, min_position=-1.2, max_position=0.6, max_speed=0.07, goal_position=0.5, goal_velocity=0.0, force=0.001, gravity=0.0025)\n"
     ]
    }
   ],
   "source": [
    "import jax\n",
    "import gymnax\n",
    "\n",
    "rng = jax.random.PRNGKey(0)\n",
    "rng, key_reset, key_policy, key_step = jax.random.split(rng, 4)\n",
    "\n",
    "# create the CartPole-v1 environment\n",
    "env, env_params = gymnax.make('MountainCar-v0')\n",
    "# inspect default environment settings\n",
    "print(\"Environment parameters:\", env_params)"
   ]
  },
  {
   "cell_type": "code",
   "execution_count": 7,
   "metadata": {},
   "outputs": [],
   "source": [
    "CONFIGS = {\n",
    "    'env': 'MountainCar-v0',  # Environment ID\n",
    "    'env_params': {},  # Placeholder for environment-specific parameters\n",
    "    'eval_freq': 10,  # Evaluate every 10 episodes\n",
    "    'skip_initial_evaluation': False,\n",
    "    'total_timesteps': 120000,  # Total timesteps for training\n",
    "    'learning_rate': 0.0003,  # Learning rate (actor/critic can be separate if needed)\n",
    "    'gamma': 0.99,  # Discount factor\n",
    "    'max_grad_norm': 10.0,  # Maximum gradient norm\n",
    "    'normalize_observations': False,  # Normalize observations if needed\n",
    "    'target_update_freq': 200,  # Target network update frequency\n",
    "    'polyak': 0.005,  # Polyak averaging coefficient\n",
    "    'num_envs': 1,  # Single environment for SAC\n",
    "    'buffer_size': 100000,  # Replay buffer size\n",
    "    'fill_buffer': 1000,  # Minimum steps to fill buffer before training\n",
    "    'batch_size': 100,  # Batch size for updates\n",
    "    'eps_start': 1.0,\n",
    "    'eps_end': 0.01,\n",
    "    'exploration_fraction': 0.5,\n",
    "    'num_epochs': 10,  # Number of epochs for training\n",
    "    'ddqn': False,  # Not relevant for SAC\n",
    "    'agent': 'SAC',  # Specify the SAC agent\n",
    "    'agent_kwargs': {\n",
    "        'activation': 'relu',  # Activation function\n",
    "        'target_entropy_ratio': 0.98,  # !!!!!!!!!!!!!!!!!\n",
    "        'num_critics': 2,  # Number of critic networks\n",
    "        'actor_lr': 0.0003,  # Actor learning rate\n",
    "        'critic_lr': 0.0003,  # Critic learning rate\n",
    "        'alpha_lr': 0.0003,  # Temperature parameter learning rate\n",
    "        'initial_alpha': 0.2,  # Initial temperature value\n",
    "        'target_entropy': None,  # Defaults to -action_dim if not set\n",
    "    }\n",
    "}\n"
   ]
  },
  {
   "cell_type": "code",
   "execution_count": 8,
   "metadata": {},
   "outputs": [],
   "source": [
    "algo_str = \"sac\" \n",
    "env_str = \"MountainCar-v0\"  \n",
    "\n",
    "algo_cls = get_algo(algo_str)\n",
    "\n",
    "algo = algo_cls.create(env=env_str, **CONFIGS.get(algo_str, {}))"
   ]
  },
  {
   "cell_type": "code",
   "execution_count": 9,
   "metadata": {},
   "outputs": [
    {
     "name": "stdout",
     "output_type": "stream",
     "text": [
      "New target_entropy_ratio: 0.05\n"
     ]
    }
   ],
   "source": [
    "algo = algo.replace(target_entropy_ratio=0.05)\n",
    "print(f\"New target_entropy_ratio: {algo.target_entropy_ratio}\")"
   ]
  },
  {
   "cell_type": "code",
   "execution_count": 10,
   "metadata": {},
   "outputs": [
    {
     "name": "stdout",
     "output_type": "stream",
     "text": [
      "Starting to train\n"
     ]
    },
    {
     "name": "stderr",
     "output_type": "stream",
     "text": [
      "/opt/anaconda3/envs/TPML/lib/python3.11/site-packages/jax/_src/numpy/array_methods.py:118: UserWarning: Explicitly requested dtype <class 'jax.numpy.int64'> requested in astype is not available, and will be truncated to dtype int32. To enable more dtypes, set the jax_enable_x64 configuration option or the JAX_ENABLE_X64 shell environment variable. See https://github.com/jax-ml/jax#current-gotchas for more.\n",
      "  return lax_numpy.astype(self, dtype, copy=copy, device=device)\n"
     ]
    },
    {
     "name": "stdout",
     "output_type": "stream",
     "text": [
      "Finished training in 9.91911 seconds (13214.1 steps/second).\n"
     ]
    }
   ],
   "source": [
    "# set training seed and jit train function\n",
    "rng = jax.random.PRNGKey(0)\n",
    "train_fn = jax.jit(algo.train)\n",
    "\n",
    "print(\"Starting to train\")\n",
    "# Train\n",
    "start = time.time()\n",
    "train_state, evaluation = train_fn(rng)\n",
    "time_elapsed = time.time() - start\n",
    "\n",
    "sps = algo.total_timesteps / time_elapsed\n",
    "print(f\"Finished training in {time_elapsed:g} seconds ({sps:g} steps/second).\")"
   ]
  },
  {
   "cell_type": "code",
   "execution_count": 11,
   "metadata": {},
   "outputs": [
    {
     "data": {
      "text/plain": [
       "(Array([[200, 200, 200, ..., 200, 200, 200],\n",
       "        [200, 200, 200, ..., 200, 200, 200],\n",
       "        [200, 200, 200, ..., 200, 200, 200],\n",
       "        ...,\n",
       "        [200, 200, 200, ..., 200, 200, 200],\n",
       "        [200, 200, 200, ..., 200, 200, 200],\n",
       "        [200, 200, 200, ..., 200, 200, 200]], dtype=int32, weak_type=True),\n",
       " Array([[-200., -200., -200., ..., -200., -200., -200.],\n",
       "        [-200., -200., -200., ..., -200., -200., -200.],\n",
       "        [-200., -200., -200., ..., -200., -200., -200.],\n",
       "        ...,\n",
       "        [-200., -200., -200., ..., -200., -200., -200.],\n",
       "        [-200., -200., -200., ..., -200., -200., -200.],\n",
       "        [-200., -200., -200., ..., -200., -200., -200.]],      dtype=float32, weak_type=True))"
      ]
     },
     "execution_count": 11,
     "metadata": {},
     "output_type": "execute_result"
    }
   ],
   "source": [
    "evaluation"
   ]
  },
  {
   "cell_type": "code",
   "execution_count": 19,
   "metadata": {},
   "outputs": [
    {
     "data": {
      "image/png": "[encoded data removed]",
      "text/plain": [
       "<Figure size 640x480 with 1 Axes>"
      ]
     },
     "metadata": {},
     "output_type": "display_data"
    }
   ],
   "source": [
    "from matplotlib import pyplot as plt\n",
    "\n",
    "episode_lengths, episode_returns = evaluation\n",
    "mean_return = episode_returns.mean(axis=1)\n",
    "\n",
    "plt.plot(jax.numpy.linspace(0, algo.total_timesteps, len(mean_return)), mean_return)\n",
    "plt.xlabel(\"Environment step\")\n",
    "plt.ylabel(\"Episodic return\")\n",
    "plt.title(f\"Training agent for {env_str} using {algo_str}\")\n",
    "plt.show()"
   ]
  }
 ],
 "metadata": {
  "kernelspec": {
   "display_name": "TPML",
   "language": "python",
   "name": "python3"
  },
  "language_info": {
   "codemirror_mode": {
    "name": "ipython",
    "version": 3
   },
   "file_extension": ".py",
   "mimetype": "text/x-python",
   "name": "python",
   "nbconvert_exporter": "python",
   "pygments_lexer": "ipython3",
   "version": "3.11.8"
  }
 },
 "nbformat": 4,
 "nbformat_minor": 2
}
