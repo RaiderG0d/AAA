{
 "cells": [
  {
   "cell_type": "code",
   "execution_count": 1,
   "metadata": {},
   "outputs": [
    {
     "name": "stdout",
     "output_type": "stream",
     "text": [
      "Requirement already satisfied: gymnax in /opt/anaconda3/envs/TPML/lib/python3.11/site-packages (0.0.8)\n",
      "Requirement already satisfied: jax in /opt/anaconda3/envs/TPML/lib/python3.11/site-packages (from gymnax) (0.4.38)\n",
      "Requirement already satisfied: jaxlib in /opt/anaconda3/envs/TPML/lib/python3.11/site-packages (from gymnax) (0.4.38)\n",
      "Requirement already satisfied: chex in /opt/anaconda3/envs/TPML/lib/python3.11/site-packages (from gymnax) (0.1.88)\n",
      "Requirement already satisfied: flax in /opt/anaconda3/envs/TPML/lib/python3.11/site-packages (from gymnax) (0.10.2)\n",
      "Requirement already satisfied: pyyaml in /opt/anaconda3/envs/TPML/lib/python3.11/site-packages (from gymnax) (6.0.2)\n",
      "Requirement already satisfied: gym>=0.26 in /opt/anaconda3/envs/TPML/lib/python3.11/site-packages (from gymnax) (0.26.2)\n",
      "Requirement already satisfied: gymnasium in /opt/anaconda3/envs/TPML/lib/python3.11/site-packages (from gymnax) (1.0.0)\n",
      "Requirement already satisfied: matplotlib in /opt/anaconda3/envs/TPML/lib/python3.11/site-packages (from gymnax) (3.9.4)\n",
      "Requirement already satisfied: seaborn in /opt/anaconda3/envs/TPML/lib/python3.11/site-packages (from gymnax) (0.13.2)\n",
      "Requirement already satisfied: numpy>=1.18.0 in /opt/anaconda3/envs/TPML/lib/python3.11/site-packages (from gym>=0.26->gymnax) (2.0.2)\n",
      "Requirement already satisfied: cloudpickle>=1.2.0 in /opt/anaconda3/envs/TPML/lib/python3.11/site-packages (from gym>=0.26->gymnax) (3.1.0)\n",
      "Requirement already satisfied: gym_notices>=0.0.4 in /opt/anaconda3/envs/TPML/lib/python3.11/site-packages (from gym>=0.26->gymnax) (0.0.8)\n",
      "Requirement already satisfied: absl-py>=0.9.0 in /opt/anaconda3/envs/TPML/lib/python3.11/site-packages (from chex->gymnax) (2.1.0)\n",
      "Requirement already satisfied: typing_extensions>=4.2.0 in /opt/anaconda3/envs/TPML/lib/python3.11/site-packages (from chex->gymnax) (4.12.2)\n",
      "Requirement already satisfied: toolz>=0.9.0 in /opt/anaconda3/envs/TPML/lib/python3.11/site-packages (from chex->gymnax) (1.0.0)\n",
      "Requirement already satisfied: ml_dtypes>=0.4.0 in /opt/anaconda3/envs/TPML/lib/python3.11/site-packages (from jax->gymnax) (0.5.0)\n",
      "Requirement already satisfied: opt_einsum in /opt/anaconda3/envs/TPML/lib/python3.11/site-packages (from jax->gymnax) (3.4.0)\n",
      "Requirement already satisfied: scipy>=1.10 in /opt/anaconda3/envs/TPML/lib/python3.11/site-packages (from jax->gymnax) (1.13.1)\n",
      "Requirement already satisfied: msgpack in /opt/anaconda3/envs/TPML/lib/python3.11/site-packages (from flax->gymnax) (1.1.0)\n",
      "Requirement already satisfied: optax in /opt/anaconda3/envs/TPML/lib/python3.11/site-packages (from flax->gymnax) (0.2.4)\n",
      "Requirement already satisfied: orbax-checkpoint in /opt/anaconda3/envs/TPML/lib/python3.11/site-packages (from flax->gymnax) (0.10.3)\n",
      "Requirement already satisfied: tensorstore in /opt/anaconda3/envs/TPML/lib/python3.11/site-packages (from flax->gymnax) (0.1.71)\n",
      "Requirement already satisfied: rich>=11.1 in /opt/anaconda3/envs/TPML/lib/python3.11/site-packages (from flax->gymnax) (13.9.4)\n",
      "Requirement already satisfied: farama-notifications>=0.0.1 in /opt/anaconda3/envs/TPML/lib/python3.11/site-packages (from gymnasium->gymnax) (0.0.4)\n",
      "Requirement already satisfied: contourpy>=1.0.1 in /opt/anaconda3/envs/TPML/lib/python3.11/site-packages (from matplotlib->gymnax) (1.3.1)\n",
      "Requirement already satisfied: cycler>=0.10 in /opt/anaconda3/envs/TPML/lib/python3.11/site-packages (from matplotlib->gymnax) (0.12.1)\n",
      "Requirement already satisfied: fonttools>=4.22.0 in /opt/anaconda3/envs/TPML/lib/python3.11/site-packages (from matplotlib->gymnax) (4.55.3)\n",
      "Requirement already satisfied: kiwisolver>=1.3.1 in /opt/anaconda3/envs/TPML/lib/python3.11/site-packages (from matplotlib->gymnax) (1.4.7)\n",
      "Requirement already satisfied: packaging>=20.0 in /opt/anaconda3/envs/TPML/lib/python3.11/site-packages (from matplotlib->gymnax) (24.2)\n",
      "Requirement already satisfied: pillow>=8 in /opt/anaconda3/envs/TPML/lib/python3.11/site-packages (from matplotlib->gymnax) (10.3.0)\n",
      "Requirement already satisfied: pyparsing>=2.3.1 in /opt/anaconda3/envs/TPML/lib/python3.11/site-packages (from matplotlib->gymnax) (3.2.0)\n",
      "Requirement already satisfied: python-dateutil>=2.7 in /opt/anaconda3/envs/TPML/lib/python3.11/site-packages (from matplotlib->gymnax) (2.9.0.post0)\n",
      "Requirement already satisfied: pandas>=1.2 in /opt/anaconda3/envs/TPML/lib/python3.11/site-packages (from seaborn->gymnax) (2.2.3)\n",
      "Requirement already satisfied: pytz>=2020.1 in /opt/anaconda3/envs/TPML/lib/python3.11/site-packages (from pandas>=1.2->seaborn->gymnax) (2024.1)\n",
      "Requirement already satisfied: tzdata>=2022.7 in /opt/anaconda3/envs/TPML/lib/python3.11/site-packages (from pandas>=1.2->seaborn->gymnax) (2024.2)\n",
      "Requirement already satisfied: six>=1.5 in /opt/anaconda3/envs/TPML/lib/python3.11/site-packages (from python-dateutil>=2.7->matplotlib->gymnax) (1.17.0)\n",
      "Requirement already satisfied: markdown-it-py>=2.2.0 in /opt/anaconda3/envs/TPML/lib/python3.11/site-packages (from rich>=11.1->flax->gymnax) (3.0.0)\n",
      "Requirement already satisfied: pygments<3.0.0,>=2.13.0 in /opt/anaconda3/envs/TPML/lib/python3.11/site-packages (from rich>=11.1->flax->gymnax) (2.18.0)\n",
      "Requirement already satisfied: etils[epy] in /opt/anaconda3/envs/TPML/lib/python3.11/site-packages (from optax->flax->gymnax) (1.11.0)\n",
      "Requirement already satisfied: nest_asyncio in /opt/anaconda3/envs/TPML/lib/python3.11/site-packages (from orbax-checkpoint->flax->gymnax) (1.6.0)\n",
      "Requirement already satisfied: protobuf in /opt/anaconda3/envs/TPML/lib/python3.11/site-packages (from orbax-checkpoint->flax->gymnax) (5.29.2)\n",
      "Requirement already satisfied: humanize in /opt/anaconda3/envs/TPML/lib/python3.11/site-packages (from orbax-checkpoint->flax->gymnax) (4.11.0)\n",
      "Requirement already satisfied: simplejson>=3.16.0 in /opt/anaconda3/envs/TPML/lib/python3.11/site-packages (from orbax-checkpoint->flax->gymnax) (3.19.3)\n",
      "Requirement already satisfied: mdurl~=0.1 in /opt/anaconda3/envs/TPML/lib/python3.11/site-packages (from markdown-it-py>=2.2.0->rich>=11.1->flax->gymnax) (0.1.2)\n",
      "Requirement already satisfied: fsspec in /opt/anaconda3/envs/TPML/lib/python3.11/site-packages (from etils[epath,epy]->orbax-checkpoint->flax->gymnax) (2024.12.0)\n",
      "Requirement already satisfied: importlib_resources in /opt/anaconda3/envs/TPML/lib/python3.11/site-packages (from etils[epath,epy]->orbax-checkpoint->flax->gymnax) (6.4.5)\n",
      "Requirement already satisfied: zipp in /opt/anaconda3/envs/TPML/lib/python3.11/site-packages (from etils[epath,epy]->orbax-checkpoint->flax->gymnax) (3.21.0)\n",
      "Note: you may need to restart the kernel to use updated packages.\n"
     ]
    }
   ],
   "source": [
    "pip install gymnax"
   ]
  },
  {
   "cell_type": "code",
   "execution_count": 2,
   "metadata": {},
   "outputs": [
    {
     "name": "stdout",
     "output_type": "stream",
     "text": [
      "Requirement already satisfied: distrax in /opt/anaconda3/envs/TPML/lib/python3.11/site-packages (0.1.5)\n",
      "Requirement already satisfied: absl-py>=0.9.0 in /opt/anaconda3/envs/TPML/lib/python3.11/site-packages (from distrax) (2.1.0)\n",
      "Requirement already satisfied: chex>=0.1.8 in /opt/anaconda3/envs/TPML/lib/python3.11/site-packages (from distrax) (0.1.88)\n",
      "Requirement already satisfied: jax>=0.1.55 in /opt/anaconda3/envs/TPML/lib/python3.11/site-packages (from distrax) (0.4.38)\n",
      "Requirement already satisfied: jaxlib>=0.1.67 in /opt/anaconda3/envs/TPML/lib/python3.11/site-packages (from distrax) (0.4.38)\n",
      "Requirement already satisfied: numpy>=1.23.0 in /opt/anaconda3/envs/TPML/lib/python3.11/site-packages (from distrax) (2.0.2)\n",
      "Requirement already satisfied: tensorflow-probability>=0.15.0 in /opt/anaconda3/envs/TPML/lib/python3.11/site-packages (from distrax) (0.25.0)\n",
      "Requirement already satisfied: typing_extensions>=4.2.0 in /opt/anaconda3/envs/TPML/lib/python3.11/site-packages (from chex>=0.1.8->distrax) (4.12.2)\n",
      "Requirement already satisfied: toolz>=0.9.0 in /opt/anaconda3/envs/TPML/lib/python3.11/site-packages (from chex>=0.1.8->distrax) (1.0.0)\n",
      "Requirement already satisfied: ml_dtypes>=0.4.0 in /opt/anaconda3/envs/TPML/lib/python3.11/site-packages (from jax>=0.1.55->distrax) (0.5.0)\n",
      "Requirement already satisfied: opt_einsum in /opt/anaconda3/envs/TPML/lib/python3.11/site-packages (from jax>=0.1.55->distrax) (3.4.0)\n",
      "Requirement already satisfied: scipy>=1.10 in /opt/anaconda3/envs/TPML/lib/python3.11/site-packages (from jax>=0.1.55->distrax) (1.13.1)\n",
      "Requirement already satisfied: six>=1.10.0 in /opt/anaconda3/envs/TPML/lib/python3.11/site-packages (from tensorflow-probability>=0.15.0->distrax) (1.17.0)\n",
      "Requirement already satisfied: decorator in /opt/anaconda3/envs/TPML/lib/python3.11/site-packages (from tensorflow-probability>=0.15.0->distrax) (5.1.1)\n",
      "Requirement already satisfied: cloudpickle>=1.3 in /opt/anaconda3/envs/TPML/lib/python3.11/site-packages (from tensorflow-probability>=0.15.0->distrax) (3.1.0)\n",
      "Requirement already satisfied: gast>=0.3.2 in /opt/anaconda3/envs/TPML/lib/python3.11/site-packages (from tensorflow-probability>=0.15.0->distrax) (0.6.0)\n",
      "Requirement already satisfied: dm-tree in /opt/anaconda3/envs/TPML/lib/python3.11/site-packages (from tensorflow-probability>=0.15.0->distrax) (0.1.8)\n",
      "Note: you may need to restart the kernel to use updated packages.\n"
     ]
    }
   ],
   "source": [
    "pip install distrax"
   ]
  },
  {
   "cell_type": "code",
   "execution_count": 3,
   "metadata": {},
   "outputs": [
    {
     "name": "stdout",
     "output_type": "stream",
     "text": [
      "Requirement already satisfied: chex in /opt/anaconda3/envs/TPML/lib/python3.11/site-packages (0.1.88)\n",
      "Requirement already satisfied: absl-py>=0.9.0 in /opt/anaconda3/envs/TPML/lib/python3.11/site-packages (from chex) (2.1.0)\n",
      "Requirement already satisfied: typing_extensions>=4.2.0 in /opt/anaconda3/envs/TPML/lib/python3.11/site-packages (from chex) (4.12.2)\n",
      "Requirement already satisfied: jax>=0.4.27 in /opt/anaconda3/envs/TPML/lib/python3.11/site-packages (from chex) (0.4.38)\n",
      "Requirement already satisfied: jaxlib>=0.4.27 in /opt/anaconda3/envs/TPML/lib/python3.11/site-packages (from chex) (0.4.38)\n",
      "Requirement already satisfied: numpy>=1.24.1 in /opt/anaconda3/envs/TPML/lib/python3.11/site-packages (from chex) (2.0.2)\n",
      "Requirement already satisfied: toolz>=0.9.0 in /opt/anaconda3/envs/TPML/lib/python3.11/site-packages (from chex) (1.0.0)\n",
      "Requirement already satisfied: ml_dtypes>=0.4.0 in /opt/anaconda3/envs/TPML/lib/python3.11/site-packages (from jax>=0.4.27->chex) (0.5.0)\n",
      "Requirement already satisfied: opt_einsum in /opt/anaconda3/envs/TPML/lib/python3.11/site-packages (from jax>=0.4.27->chex) (3.4.0)\n",
      "Requirement already satisfied: scipy>=1.10 in /opt/anaconda3/envs/TPML/lib/python3.11/site-packages (from jax>=0.4.27->chex) (1.13.1)\n",
      "Note: you may need to restart the kernel to use updated packages.\n"
     ]
    }
   ],
   "source": [
    "pip install chex"
   ]
  },
  {
   "cell_type": "code",
   "execution_count": 4,
   "metadata": {},
   "outputs": [
    {
     "name": "stdout",
     "output_type": "stream",
     "text": [
      "Requirement already satisfied: flax in /opt/anaconda3/envs/TPML/lib/python3.11/site-packages (0.10.2)\n",
      "Requirement already satisfied: jax>=0.4.27 in /opt/anaconda3/envs/TPML/lib/python3.11/site-packages (from flax) (0.4.38)\n",
      "Requirement already satisfied: msgpack in /opt/anaconda3/envs/TPML/lib/python3.11/site-packages (from flax) (1.1.0)\n",
      "Requirement already satisfied: optax in /opt/anaconda3/envs/TPML/lib/python3.11/site-packages (from flax) (0.2.4)\n",
      "Requirement already satisfied: orbax-checkpoint in /opt/anaconda3/envs/TPML/lib/python3.11/site-packages (from flax) (0.10.3)\n",
      "Requirement already satisfied: tensorstore in /opt/anaconda3/envs/TPML/lib/python3.11/site-packages (from flax) (0.1.71)\n",
      "Requirement already satisfied: rich>=11.1 in /opt/anaconda3/envs/TPML/lib/python3.11/site-packages (from flax) (13.9.4)\n",
      "Requirement already satisfied: typing-extensions>=4.2 in /opt/anaconda3/envs/TPML/lib/python3.11/site-packages (from flax) (4.12.2)\n",
      "Requirement already satisfied: PyYAML>=5.4.1 in /opt/anaconda3/envs/TPML/lib/python3.11/site-packages (from flax) (6.0.2)\n",
      "Requirement already satisfied: numpy>=1.23.2 in /opt/anaconda3/envs/TPML/lib/python3.11/site-packages (from flax) (2.0.2)\n",
      "Requirement already satisfied: jaxlib<=0.4.38,>=0.4.38 in /opt/anaconda3/envs/TPML/lib/python3.11/site-packages (from jax>=0.4.27->flax) (0.4.38)\n",
      "Requirement already satisfied: ml_dtypes>=0.4.0 in /opt/anaconda3/envs/TPML/lib/python3.11/site-packages (from jax>=0.4.27->flax) (0.5.0)\n",
      "Requirement already satisfied: opt_einsum in /opt/anaconda3/envs/TPML/lib/python3.11/site-packages (from jax>=0.4.27->flax) (3.4.0)\n",
      "Requirement already satisfied: scipy>=1.10 in /opt/anaconda3/envs/TPML/lib/python3.11/site-packages (from jax>=0.4.27->flax) (1.13.1)\n",
      "Requirement already satisfied: markdown-it-py>=2.2.0 in /opt/anaconda3/envs/TPML/lib/python3.11/site-packages (from rich>=11.1->flax) (3.0.0)\n",
      "Requirement already satisfied: pygments<3.0.0,>=2.13.0 in /opt/anaconda3/envs/TPML/lib/python3.11/site-packages (from rich>=11.1->flax) (2.18.0)\n",
      "Requirement already satisfied: absl-py>=0.7.1 in /opt/anaconda3/envs/TPML/lib/python3.11/site-packages (from optax->flax) (2.1.0)\n",
      "Requirement already satisfied: chex>=0.1.87 in /opt/anaconda3/envs/TPML/lib/python3.11/site-packages (from optax->flax) (0.1.88)\n",
      "Requirement already satisfied: etils[epy] in /opt/anaconda3/envs/TPML/lib/python3.11/site-packages (from optax->flax) (1.11.0)\n",
      "Requirement already satisfied: nest_asyncio in /opt/anaconda3/envs/TPML/lib/python3.11/site-packages (from orbax-checkpoint->flax) (1.6.0)\n",
      "Requirement already satisfied: protobuf in /opt/anaconda3/envs/TPML/lib/python3.11/site-packages (from orbax-checkpoint->flax) (5.29.2)\n",
      "Requirement already satisfied: humanize in /opt/anaconda3/envs/TPML/lib/python3.11/site-packages (from orbax-checkpoint->flax) (4.11.0)\n",
      "Requirement already satisfied: simplejson>=3.16.0 in /opt/anaconda3/envs/TPML/lib/python3.11/site-packages (from orbax-checkpoint->flax) (3.19.3)\n",
      "Requirement already satisfied: toolz>=0.9.0 in /opt/anaconda3/envs/TPML/lib/python3.11/site-packages (from chex>=0.1.87->optax->flax) (1.0.0)\n",
      "Requirement already satisfied: mdurl~=0.1 in /opt/anaconda3/envs/TPML/lib/python3.11/site-packages (from markdown-it-py>=2.2.0->rich>=11.1->flax) (0.1.2)\n",
      "Requirement already satisfied: fsspec in /opt/anaconda3/envs/TPML/lib/python3.11/site-packages (from etils[epath,epy]->orbax-checkpoint->flax) (2024.12.0)\n",
      "Requirement already satisfied: importlib_resources in /opt/anaconda3/envs/TPML/lib/python3.11/site-packages (from etils[epath,epy]->orbax-checkpoint->flax) (6.4.5)\n",
      "Requirement already satisfied: zipp in /opt/anaconda3/envs/TPML/lib/python3.11/site-packages (from etils[epath,epy]->orbax-checkpoint->flax) (3.21.0)\n",
      "Note: you may need to restart the kernel to use updated packages.\n"
     ]
    }
   ],
   "source": [
    "pip install flax"
   ]
  },
  {
   "cell_type": "code",
   "execution_count": 5,
   "metadata": {},
   "outputs": [
    {
     "name": "stdout",
     "output_type": "stream",
     "text": [
      "Requirement already satisfied: optax in /opt/anaconda3/envs/TPML/lib/python3.11/site-packages (0.2.4)\n",
      "Requirement already satisfied: absl-py>=0.7.1 in /opt/anaconda3/envs/TPML/lib/python3.11/site-packages (from optax) (2.1.0)\n",
      "Requirement already satisfied: chex>=0.1.87 in /opt/anaconda3/envs/TPML/lib/python3.11/site-packages (from optax) (0.1.88)\n",
      "Requirement already satisfied: jax>=0.4.27 in /opt/anaconda3/envs/TPML/lib/python3.11/site-packages (from optax) (0.4.38)\n",
      "Requirement already satisfied: jaxlib>=0.4.27 in /opt/anaconda3/envs/TPML/lib/python3.11/site-packages (from optax) (0.4.38)\n",
      "Requirement already satisfied: numpy>=1.18.0 in /opt/anaconda3/envs/TPML/lib/python3.11/site-packages (from optax) (2.0.2)\n",
      "Requirement already satisfied: etils[epy] in /opt/anaconda3/envs/TPML/lib/python3.11/site-packages (from optax) (1.11.0)\n",
      "Requirement already satisfied: typing_extensions>=4.2.0 in /opt/anaconda3/envs/TPML/lib/python3.11/site-packages (from chex>=0.1.87->optax) (4.12.2)\n",
      "Requirement already satisfied: toolz>=0.9.0 in /opt/anaconda3/envs/TPML/lib/python3.11/site-packages (from chex>=0.1.87->optax) (1.0.0)\n",
      "Requirement already satisfied: ml_dtypes>=0.4.0 in /opt/anaconda3/envs/TPML/lib/python3.11/site-packages (from jax>=0.4.27->optax) (0.5.0)\n",
      "Requirement already satisfied: opt_einsum in /opt/anaconda3/envs/TPML/lib/python3.11/site-packages (from jax>=0.4.27->optax) (3.4.0)\n",
      "Requirement already satisfied: scipy>=1.10 in /opt/anaconda3/envs/TPML/lib/python3.11/site-packages (from jax>=0.4.27->optax) (1.13.1)\n",
      "Note: you may need to restart the kernel to use updated packages.\n"
     ]
    }
   ],
   "source": [
    "pip install optax"
   ]
  },
  {
   "cell_type": "code",
   "execution_count": 6,
   "metadata": {},
   "outputs": [
    {
     "name": "stdout",
     "output_type": "stream",
     "text": [
      "Requirement already satisfied: jax in /opt/anaconda3/envs/TPML/lib/python3.11/site-packages (0.4.38)\n",
      "Requirement already satisfied: jaxlib<=0.4.38,>=0.4.38 in /opt/anaconda3/envs/TPML/lib/python3.11/site-packages (from jax) (0.4.38)\n",
      "Requirement already satisfied: ml_dtypes>=0.4.0 in /opt/anaconda3/envs/TPML/lib/python3.11/site-packages (from jax) (0.5.0)\n",
      "Requirement already satisfied: numpy>=1.24 in /opt/anaconda3/envs/TPML/lib/python3.11/site-packages (from jax) (2.0.2)\n",
      "Requirement already satisfied: opt_einsum in /opt/anaconda3/envs/TPML/lib/python3.11/site-packages (from jax) (3.4.0)\n",
      "Requirement already satisfied: scipy>=1.10 in /opt/anaconda3/envs/TPML/lib/python3.11/site-packages (from jax) (1.13.1)\n",
      "Note: you may need to restart the kernel to use updated packages.\n"
     ]
    }
   ],
   "source": [
    "pip install jax"
   ]
  },
  {
   "cell_type": "code",
   "execution_count": 2,
   "metadata": {},
   "outputs": [],
   "source": [
    "import gymnax"
   ]
  },
  {
   "cell_type": "code",
   "execution_count": 3,
   "metadata": {},
   "outputs": [
    {
     "data": {
      "text/plain": [
       "['CartPole-v1',\n",
       " 'Pendulum-v1',\n",
       " 'Acrobot-v1',\n",
       " 'MountainCar-v0',\n",
       " 'MountainCarContinuous-v0',\n",
       " 'Asterix-MinAtar',\n",
       " 'Breakout-MinAtar',\n",
       " 'Freeway-MinAtar',\n",
       " 'SpaceInvaders-MinAtar',\n",
       " 'Catch-bsuite',\n",
       " 'DeepSea-bsuite',\n",
       " 'MemoryChain-bsuite',\n",
       " 'UmbrellaChain-bsuite',\n",
       " 'DiscountingChain-bsuite',\n",
       " 'MNISTBandit-bsuite',\n",
       " 'SimpleBandit-bsuite',\n",
       " 'FourRooms-misc',\n",
       " 'MetaMaze-misc',\n",
       " 'PointRobot-misc',\n",
       " 'BernoulliBandit-misc',\n",
       " 'GaussianBandit-misc',\n",
       " 'Reacher-misc',\n",
       " 'Swimmer-misc',\n",
       " 'Pong-misc']"
      ]
     },
     "execution_count": 3,
     "metadata": {},
     "output_type": "execute_result"
    }
   ],
   "source": [
    "gymnax.registered_envs"
   ]
  },
  {
   "cell_type": "code",
   "execution_count": 43,
   "metadata": {},
   "outputs": [
    {
     "name": "stdout",
     "output_type": "stream",
     "text": [
      "Environment parameters: EnvParams(max_steps_in_episode=200, min_position=-1.2, max_position=0.6, max_speed=0.07, goal_position=0.5, goal_velocity=0.0, force=0.001, gravity=0.0025)\n"
     ]
    }
   ],
   "source": [
    "import jax\n",
    "\n",
    "rng = jax.random.PRNGKey(0)\n",
    "rng, key_reset, key_policy, key_step = jax.random.split(rng, 4)\n",
    "\n",
    "# create the CartPole-v1 environment\n",
    "env, env_params = gymnax.make('MountainCar-v0')\n",
    "# inspect default environment settings\n",
    "print(\"Environment parameters:\", env_params)"
   ]
  },
  {
   "cell_type": "code",
   "execution_count": 23,
   "metadata": {},
   "outputs": [
    {
     "name": "stdout",
     "output_type": "stream",
     "text": [
      "Action Space Size: 3\n"
     ]
    }
   ],
   "source": [
    "# Verify observation and action space\n",
    "print(\"Action Space Size:\", env.num_actions)"
   ]
  },
  {
   "cell_type": "code",
   "execution_count": 24,
   "metadata": {},
   "outputs": [
    {
     "data": {
      "text/plain": [
       "(2,)"
      ]
     },
     "execution_count": 24,
     "metadata": {},
     "output_type": "execute_result"
    }
   ],
   "source": [
    "# observation space dimensionality\n",
    "env.observation_space(env_params).shape"
   ]
  },
  {
   "cell_type": "code",
   "execution_count": 25,
   "metadata": {},
   "outputs": [
    {
     "data": {
      "text/plain": [
       "3"
      ]
     },
     "execution_count": 25,
     "metadata": {},
     "output_type": "execute_result"
    }
   ],
   "source": [
    "# action space dimensionality\n",
    "env.action_space(env_params).n"
   ]
  },
  {
   "cell_type": "code",
   "execution_count": 26,
   "metadata": {},
   "outputs": [
    {
     "data": {
      "text/plain": [
       "(Array([-0.58275205,  0.        ], dtype=float32),\n",
       " EnvState(time=Array(0, dtype=int32, weak_type=True), position=Array(-0.58275205, dtype=float32), velocity=Array(0., dtype=float32, weak_type=True)))"
      ]
     },
     "execution_count": 26,
     "metadata": {},
     "output_type": "execute_result"
    }
   ],
   "source": [
    "obs, state = env.reset(key_reset, env_params)\n",
    "obs, state"
   ]
  },
  {
   "cell_type": "code",
   "execution_count": 27,
   "metadata": {},
   "outputs": [
    {
     "name": "stderr",
     "output_type": "stream",
     "text": [
      "/opt/anaconda3/envs/TPML/lib/python3.11/site-packages/jax/_src/numpy/array_methods.py:118: UserWarning: Explicitly requested dtype <class 'jax.numpy.int64'> requested in astype is not available, and will be truncated to dtype int32. To enable more dtypes, set the jax_enable_x64 configuration option or the JAX_ENABLE_X64 shell environment variable. See https://github.com/jax-ml/jax#current-gotchas for more.\n",
      "  return lax_numpy.astype(self, dtype, copy=copy, device=device)\n"
     ]
    },
    {
     "data": {
      "text/plain": [
       "(Array([-5.8331072e-01, -5.5867527e-04], dtype=float32),\n",
       " EnvState(time=Array(1, dtype=int32, weak_type=True), position=Array(-0.5833107, dtype=float32), velocity=Array(-0.00055868, dtype=float32)),\n",
       " Array(-1., dtype=float32, weak_type=True),\n",
       " Array(False, dtype=bool))"
      ]
     },
     "execution_count": 27,
     "metadata": {},
     "output_type": "execute_result"
    }
   ],
   "source": [
    "action = env.action_space(env_params).sample(key_policy)\n",
    "n_obs, n_state, reward, done, _ = env.step(key_step, state, action, env_params)\n",
    "n_obs, n_state, reward, done"
   ]
  },
  {
   "cell_type": "markdown",
   "metadata": {},
   "source": [
    "You can also simply use the environment with its default settings:"
   ]
  },
  {
   "cell_type": "code",
   "execution_count": 28,
   "metadata": {},
   "outputs": [
    {
     "name": "stderr",
     "output_type": "stream",
     "text": [
      "/opt/anaconda3/envs/TPML/lib/python3.11/site-packages/jax/_src/numpy/array_methods.py:118: UserWarning: Explicitly requested dtype <class 'jax.numpy.int64'> requested in astype is not available, and will be truncated to dtype int32. To enable more dtypes, set the jax_enable_x64 configuration option or the JAX_ENABLE_X64 shell environment variable. See https://github.com/jax-ml/jax#current-gotchas for more.\n",
      "  return lax_numpy.astype(self, dtype, copy=copy, device=device)\n"
     ]
    }
   ],
   "source": [
    "obs, state = env.reset(key_reset)\n",
    "action = env.action_space().sample(key_policy)\n",
    "n_obs, n_state, reward, done, _ = env.step(key_step, state, action)"
   ]
  },
  {
   "cell_type": "code",
   "execution_count": 29,
   "metadata": {},
   "outputs": [
    {
     "name": "stdout",
     "output_type": "stream",
     "text": [
      "(8, 2)\n"
     ]
    }
   ],
   "source": [
    "vmap_reset = jax.vmap(env.reset, in_axes=(0, None))\n",
    "vmap_step = jax.vmap(env.step, in_axes=(0, 0, 0, None))\n",
    "\n",
    "num_envs = 8\n",
    "vmap_keys = jax.random.split(rng, num_envs)\n",
    "\n",
    "obs, state = vmap_reset(vmap_keys, env_params)\n",
    "n_obs, n_state, reward, done, _ = vmap_step(vmap_keys, state, jax.numpy.zeros(num_envs), env_params)\n",
    "print(n_obs.shape)"
   ]
  },
  {
   "cell_type": "code",
   "execution_count": 30,
   "metadata": {},
   "outputs": [],
   "source": [
    "import time\n",
    "from RLinJAX import *"
   ]
  },
  {
   "cell_type": "code",
   "execution_count": 31,
   "metadata": {},
   "outputs": [
    {
     "data": {
      "text/plain": [
       "[CpuDevice(id=0)]"
      ]
     },
     "execution_count": 31,
     "metadata": {},
     "output_type": "execute_result"
    }
   ],
   "source": [
    "jax.devices()"
   ]
  },
  {
   "cell_type": "code",
   "execution_count": 32,
   "metadata": {},
   "outputs": [
    {
     "data": {
      "text/plain": [
       "{'env': <gymnax.environments.classic_control.mountain_car.MountainCar at 0x343ed3f90>,\n",
       " 'env_params': {'max_steps_in_episode': 200,\n",
       "  'min_position': -1.2,\n",
       "  'max_position': 0.6,\n",
       "  'max_speed': 0.07,\n",
       "  'goal_position': 0.5,\n",
       "  'goal_velocity': 0.0,\n",
       "  'force': 0.001,\n",
       "  'gravity': 0.0025},\n",
       " 'eval_callback': <function RLinJAX.algos.algorithm.Algorithm.create.<locals>.eval_callback(algo, ts, rng)>,\n",
       " 'eval_freq': 4096,\n",
       " 'skip_initial_evaluation': False,\n",
       " 'total_timesteps': 131072,\n",
       " 'learning_rate': 0.0003,\n",
       " 'gamma': 0.95,\n",
       " 'max_grad_norm': inf,\n",
       " 'normalize_observations': False,\n",
       " 'target_update_freq': 1,\n",
       " 'polyak': 0.99,\n",
       " 'num_envs': 1,\n",
       " 'buffer_size': 131072,\n",
       " 'fill_buffer': 2048,\n",
       " 'batch_size': 256,\n",
       " 'eps_start': 1.0,\n",
       " 'eps_end': 0.05,\n",
       " 'exploration_fraction': 0.1,\n",
       " 'agent': {'hidden_layer_sizes': (64, 64),\n",
       "  'activation': <PjitFunction>,\n",
       "  'action_dim': 3,\n",
       "  'parent': None,\n",
       "  'name': None},\n",
       " 'num_epochs': 1,\n",
       " 'ddqn': True}"
      ]
     },
     "execution_count": 32,
     "metadata": {},
     "output_type": "execute_result"
    }
   ],
   "source": [
    "algo.config"
   ]
  },
  {
   "cell_type": "code",
   "execution_count": null,
   "metadata": {},
   "outputs": [],
   "source": []
  },
  {
   "cell_type": "code",
   "execution_count": 69,
   "metadata": {},
   "outputs": [],
   "source": [
    "# CONFIGS = { \"dqn\": {\n",
    "#             \"agent\": \"DuelingQNetwork\",\n",
    "#             \"agent_kwargs\": {\"activation\": \"swish\"},\n",
    "#         \"buffer_size\": 100000,\n",
    "#         \"fill_buffer\": 1000,\n",
    "#         \"batch_size\": 100,\n",
    "#         \"learning_rate\": 3e-4,\n",
    "#         \"polyak\": 0.98, \n",
    "#         \"target_update_freq\": 200,\n",
    "#         \"total_timesteps\": 120000,\n",
    "#         \"eval_freq\": 5000,\n",
    "#         \"eps_start\": 1.0,\n",
    "#         \"eps_end\": 0.01,\n",
    "#         \"exploration_fraction\": 0.5,\n",
    "#         \"gamma\": 0.9,\n",
    "#         'num_epochs': 1,\n",
    "#         'ddqn': True}\n",
    "#          }\n",
    "        \n",
    "\n",
    "CONFIGS = {\n",
    "    'eval_freq': 5000,\n",
    "    'skip_initial_evaluation': False,\n",
    "    'total_timesteps': 120000,\n",
    "    'learning_rate': 0.0003,\n",
    "    'gamma': 0.9,\n",
    "    'max_grad_norm': 10.0,  # Avoid inf if unsupported\n",
    "    'normalize_observations': False,\n",
    "    'target_update_freq': 200,\n",
    "    'polyak': 0.98,  # Avoid setting to None\n",
    "    'num_envs': 1,\n",
    "    'buffer_size': 100000,\n",
    "    'fill_buffer': 1000,\n",
    "    'batch_size': 100,\n",
    "    'eps_start': 1.0,\n",
    "    'eps_end': 0.01,\n",
    "    'exploration_fraction': 0.5,\n",
    "    'num_epochs': 10,  # Add a valid value or handle None\n",
    "    'ddqn': True,\n",
    "    'agent': {'hidden_layer_sizes': (64, 64),\n",
    "    'activation': 'swish',\n",
    "    'action_dim': 3,\n",
    "    'parent': None,\n",
    "    'name': None},\n",
    "    }\n",
    "\n",
    "\n"
   ]
  },
  {
   "cell_type": "code",
   "execution_count": 70,
   "metadata": {},
   "outputs": [],
   "source": [
    "algo_str = \"dqn\"\n",
    "env_str = \"MountainCar-v0\"\n",
    "\n",
    "algo_cls = get_algo(algo_str)\n",
    "algo = algo_cls.create(env=env_str, **CONFIGS.get(algo_str, {}))"
   ]
  },
  {
   "cell_type": "code",
   "execution_count": 64,
   "metadata": {},
   "outputs": [
    {
     "data": {
      "text/plain": [
       "{'env': <gymnax.environments.classic_control.mountain_car.MountainCar at 0x34742f2d0>,\n",
       " 'env_params': {'max_steps_in_episode': 200,\n",
       "  'min_position': -1.2,\n",
       "  'max_position': 0.6,\n",
       "  'max_speed': 0.07,\n",
       "  'goal_position': 0.5,\n",
       "  'goal_velocity': 0.0,\n",
       "  'force': 0.001,\n",
       "  'gravity': 0.0025},\n",
       " 'eval_callback': <function RLinJAX.algos.algorithm.Algorithm.create.<locals>.eval_callback(algo, ts, rng)>,\n",
       " 'eval_freq': 4096,\n",
       " 'skip_initial_evaluation': False,\n",
       " 'total_timesteps': 131072,\n",
       " 'learning_rate': 0.0003,\n",
       " 'gamma': 0.99,\n",
       " 'max_grad_norm': inf,\n",
       " 'normalize_observations': False,\n",
       " 'target_update_freq': 1,\n",
       " 'polyak': 0.99,\n",
       " 'num_envs': 1,\n",
       " 'buffer_size': 131072,\n",
       " 'fill_buffer': 2048,\n",
       " 'batch_size': 256,\n",
       " 'eps_start': 1.0,\n",
       " 'eps_end': 0.05,\n",
       " 'exploration_fraction': 0.1,\n",
       " 'agent': {'hidden_layer_sizes': (64, 64),\n",
       "  'activation': <PjitFunction>,\n",
       "  'action_dim': 3,\n",
       "  'parent': None,\n",
       "  'name': None},\n",
       " 'num_epochs': 1,\n",
       " 'ddqn': True}"
      ]
     },
     "execution_count": 64,
     "metadata": {},
     "output_type": "execute_result"
    }
   ],
   "source": [
    "algo.config"
   ]
  },
  {
   "cell_type": "code",
   "execution_count": 65,
   "metadata": {},
   "outputs": [
    {
     "name": "stdout",
     "output_type": "stream",
     "text": [
      "New gamma: 0.95\n"
     ]
    }
   ],
   "source": [
    "algo = algo.replace(gamma=0.95)\n",
    "print(f\"New gamma: {algo.gamma}\")"
   ]
  },
  {
   "cell_type": "markdown",
   "metadata": {},
   "source": [
    "### Training the agent"
   ]
  },
  {
   "cell_type": "code",
   "execution_count": 71,
   "metadata": {},
   "outputs": [
    {
     "name": "stdout",
     "output_type": "stream",
     "text": [
      "Starting to train\n"
     ]
    },
    {
     "name": "stderr",
     "output_type": "stream",
     "text": [
      "/opt/anaconda3/envs/TPML/lib/python3.11/site-packages/jax/_src/numpy/array_methods.py:118: UserWarning: Explicitly requested dtype <class 'jax.numpy.int64'> requested in astype is not available, and will be truncated to dtype int32. To enable more dtypes, set the jax_enable_x64 configuration option or the JAX_ENABLE_X64 shell environment variable. See https://github.com/jax-ml/jax#current-gotchas for more.\n",
      "  return lax_numpy.astype(self, dtype, copy=copy, device=device)\n",
      "/opt/anaconda3/envs/TPML/lib/python3.11/site-packages/jax/_src/numpy/array_methods.py:118: UserWarning: Explicitly requested dtype <class 'jax.numpy.int64'> requested in astype is not available, and will be truncated to dtype int32. To enable more dtypes, set the jax_enable_x64 configuration option or the JAX_ENABLE_X64 shell environment variable. See https://github.com/jax-ml/jax#current-gotchas for more.\n",
      "  return lax_numpy.astype(self, dtype, copy=copy, device=device)\n"
     ]
    },
    {
     "name": "stdout",
     "output_type": "stream",
     "text": [
      "Finished training in 7.36889 seconds (17787.2 steps/second).\n"
     ]
    }
   ],
   "source": [
    "# set training seed and jit train function\n",
    "rng = jax.random.PRNGKey(0)\n",
    "train_fn = jax.jit(algo.train)\n",
    "\n",
    "print(\"Starting to train\")\n",
    "# Train\n",
    "start = time.time()\n",
    "train_state, evaluation = train_fn(rng)\n",
    "time_elapsed = time.time() - start\n",
    "\n",
    "sps = algo.total_timesteps / time_elapsed\n",
    "print(f\"Finished training in {time_elapsed:g} seconds ({sps:g} steps/second).\")"
   ]
  },
  {
   "cell_type": "code",
   "execution_count": 72,
   "metadata": {},
   "outputs": [
    {
     "data": {
      "text/plain": [
       "(Array([[200, 200, 200, ..., 200, 200, 200],\n",
       "        [200, 200, 200, ..., 200, 200, 200],\n",
       "        [200, 200, 200, ..., 200, 200, 200],\n",
       "        ...,\n",
       "        [141,  95, 200, ..., 169, 161,  98],\n",
       "        [143, 142, 145, ...,  90,  85, 156],\n",
       "        [158, 156, 146, ..., 153,  99, 153]], dtype=int32, weak_type=True),\n",
       " Array([[-200., -200., -200., ..., -200., -200., -200.],\n",
       "        [-200., -200., -200., ..., -200., -200., -200.],\n",
       "        [-200., -200., -200., ..., -200., -200., -200.],\n",
       "        ...,\n",
       "        [-141.,  -95., -200., ..., -169., -161.,  -98.],\n",
       "        [-143., -142., -145., ...,  -90.,  -85., -156.],\n",
       "        [-158., -156., -146., ..., -153.,  -99., -153.]],      dtype=float32, weak_type=True))"
      ]
     },
     "execution_count": 72,
     "metadata": {},
     "output_type": "execute_result"
    }
   ],
   "source": [
    "evaluation"
   ]
  },
  {
   "cell_type": "code",
   "execution_count": 73,
   "metadata": {},
   "outputs": [
    {
     "data": {
      "image/png": "[encoded data removed]",
      "text/plain": [
       "<Figure size 1200x500 with 1 Axes>"
      ]
     },
     "metadata": {},
     "output_type": "display_data"
    }
   ],
   "source": [
    "# from matplotlib import pyplot as plt\n",
    "import numpy as np\n",
    "\n",
    "episode_lengths, episode_returns = evaluation\n",
    "episode_returns_2 = np.concatenate(episode_returns)\n",
    "\n",
    "# mean_return = episode_returns.mean(axis=1)\n",
    "\n",
    "# plt.plot(jax.numpy.linspace(0, algo.total_timesteps, len(mean_return)), mean_return)\n",
    "# plt.xlabel(\"Environment step\")\n",
    "# plt.ylabel(\"Episodic return\")\n",
    "# plt.title(f\"Training agent for {env_str} using {algo_str}\")\n",
    "# plt.show()\n",
    "\n",
    "\n",
    "\n",
    "def simple_moving_average(data, window):\n",
    "    return np.convolve(data, np.ones(window), 'valid') / window\n",
    "\n",
    "window_size = 100\n",
    "sma_rewards = simple_moving_average(episode_returns_2, window_size)\n",
    "\n",
    "plt.figure(figsize=(12, 5))\n",
    "\n",
    "plt.subplot(1, 2, 1)\n",
    "plt.plot(sma_rewards)\n",
    "plt.title('Simple Moving Average Reward (window=100)')\n",
    "plt.xlabel('Episode')\n",
    "plt.ylabel('SMA Reward')\n",
    "\n",
    "\n",
    "\n",
    "plt.tight_layout()\n",
    "plt.show()"
   ]
  },
  {
   "cell_type": "code",
   "execution_count": 72,
   "metadata": {},
   "outputs": [
    {
     "name": "stdout",
     "output_type": "stream",
     "text": [
      "Environment parameters: EnvParams(max_steps_in_episode=200, min_position=-1.2, max_position=0.6, max_speed=0.07, goal_position=0.5, goal_velocity=0.0, force=0.001, gravity=0.0025)\n",
      "New gamma: 0.95\n",
      "Starting to train\n"
     ]
    },
    {
     "name": "stderr",
     "output_type": "stream",
     "text": [
      "/opt/anaconda3/envs/TPML/lib/python3.11/site-packages/jax/_src/numpy/array_methods.py:118: UserWarning: Explicitly requested dtype <class 'jax.numpy.int64'> requested in astype is not available, and will be truncated to dtype int32. To enable more dtypes, set the jax_enable_x64 configuration option or the JAX_ENABLE_X64 shell environment variable. See https://github.com/jax-ml/jax#current-gotchas for more.\n",
      "  return lax_numpy.astype(self, dtype, copy=copy, device=device)\n",
      "/opt/anaconda3/envs/TPML/lib/python3.11/site-packages/jax/_src/numpy/array_methods.py:118: UserWarning: Explicitly requested dtype <class 'jax.numpy.int64'> requested in astype is not available, and will be truncated to dtype int32. To enable more dtypes, set the jax_enable_x64 configuration option or the JAX_ENABLE_X64 shell environment variable. See https://github.com/jax-ml/jax#current-gotchas for more.\n",
      "  return lax_numpy.astype(self, dtype, copy=copy, device=device)\n"
     ]
    },
    {
     "name": "stdout",
     "output_type": "stream",
     "text": [
      "Finished training in 6.76978 seconds (19361.3 steps/second).\n"
     ]
    },
    {
     "ename": "AttributeError",
     "evalue": "'DQN' object has no attribute 'get_action'",
     "output_type": "error",
     "traceback": [
      "\u001b[0;31m---------------------------------------------------------------------------\u001b[0m",
      "\u001b[0;31mAttributeError\u001b[0m                            Traceback (most recent call last)",
      "Cell \u001b[0;32mIn[72], line 77\u001b[0m\n\u001b[1;32m     74\u001b[0m     imageio\u001b[38;5;241m.\u001b[39mmimsave(filename, frames, duration\u001b[38;5;241m=\u001b[39mduration)\n\u001b[1;32m     76\u001b[0m \u001b[38;5;66;03m# Generate GIF for the trained DQN agent\u001b[39;00m\n\u001b[0;32m---> 77\u001b[0m \u001b[43mgenerate_gif\u001b[49m\u001b[43m(\u001b[49m\u001b[43malgo\u001b[49m\u001b[43m,\u001b[49m\u001b[43m \u001b[49m\u001b[43menv\u001b[49m\u001b[43m,\u001b[49m\u001b[43m \u001b[49m\u001b[43menv_params\u001b[49m\u001b[43m,\u001b[49m\u001b[43m \u001b[49m\u001b[43mfilename\u001b[49m\u001b[38;5;241;43m=\u001b[39;49m\u001b[38;5;124;43m\"\u001b[39;49m\u001b[38;5;124;43mdqn_agent.gif\u001b[39;49m\u001b[38;5;124;43m\"\u001b[39;49m\u001b[43m)\u001b[49m\n",
      "Cell \u001b[0;32mIn[72], line 70\u001b[0m, in \u001b[0;36mgenerate_gif\u001b[0;34m(agent, env, env_params, filename, duration)\u001b[0m\n\u001b[1;32m     68\u001b[0m done \u001b[38;5;241m=\u001b[39m \u001b[38;5;28;01mFalse\u001b[39;00m\n\u001b[1;32m     69\u001b[0m \u001b[38;5;28;01mwhile\u001b[39;00m \u001b[38;5;129;01mnot\u001b[39;00m done:\n\u001b[0;32m---> 70\u001b[0m     action \u001b[38;5;241m=\u001b[39m \u001b[43magent\u001b[49m\u001b[38;5;241;43m.\u001b[39;49m\u001b[43mget_action\u001b[49m(obs, rng)  \u001b[38;5;66;03m# Use the correct method to select action\u001b[39;00m\n\u001b[1;32m     71\u001b[0m     obs, state, reward, done, _ \u001b[38;5;241m=\u001b[39m env\u001b[38;5;241m.\u001b[39mstep(rng, state, action, env_params)\n\u001b[1;32m     72\u001b[0m     frame \u001b[38;5;241m=\u001b[39m env\u001b[38;5;241m.\u001b[39mrender(mode\u001b[38;5;241m=\u001b[39m\u001b[38;5;124m'\u001b[39m\u001b[38;5;124mrgb_array\u001b[39m\u001b[38;5;124m'\u001b[39m)\n",
      "\u001b[0;31mAttributeError\u001b[0m: 'DQN' object has no attribute 'get_action'"
     ]
    }
   ],
   "source": [
    "import jax\n",
    "import time\n",
    "import gymnax\n",
    "import imageio\n",
    "from RLinJAX import *\n",
    "\n",
    "rng = jax.random.PRNGKey(0)\n",
    "rng, key_reset, key_policy, key_step = jax.random.split(rng, 4)\n",
    "\n",
    "# create the CartPole-v1 environment\n",
    "env, env_params = gymnax.make('MountainCar-v0')\n",
    "print(\"Environment parameters:\", env_params)\n",
    "\n",
    "CONFIGS = {\n",
    "    'env': None,\n",
    "    'env_params': {},\n",
    "    'eval_callback': None,\n",
    "    'eval_freq': 5000,\n",
    "    'skip_initial_evaluation': False,\n",
    "    'total_timesteps': 120000,\n",
    "    'learning_rate': 0.0003,\n",
    "    'gamma': 0.95,\n",
    "    'max_grad_norm': 10.0,\n",
    "    'normalize_observations': False,\n",
    "    'target_update_freq': 200,\n",
    "    'polyak': 0.98,\n",
    "    'num_envs': 1,\n",
    "    'buffer_size': 100000,\n",
    "    'fill_buffer': 1000,\n",
    "    'batch_size': 100,\n",
    "    'eps_start': 1.0,\n",
    "    'eps_end': 0.01,\n",
    "    'exploration_fraction': 0.5,\n",
    "    'num_epochs': 10,\n",
    "    'ddqn': True,\n",
    "    'agent': 'DuelingQNetwork',\n",
    "    'agent_kwargs': {\n",
    "        'activation': 'swish'\n",
    "    }\n",
    "}\n",
    "\n",
    "algo_str = \"dqn\"\n",
    "env_str = \"MountainCar-v0\"\n",
    "\n",
    "algo_cls = get_algo(algo_str)\n",
    "algo = algo_cls.create(env=env_str, **CONFIGS.get(algo_str, {}))\n",
    "\n",
    "algo = algo.replace(gamma=0.95)\n",
    "print(f\"New gamma: {algo.gamma}\")\n",
    "\n",
    "# set training seed and jit train function\n",
    "rng = jax.random.PRNGKey(0)\n",
    "train_fn = jax.jit(algo.train)\n",
    "\n",
    "print(\"Starting to train\")\n",
    "# Train\n",
    "start = time.time()\n",
    "train_state, evaluation = train_fn(rng)\n",
    "time_elapsed = time.time() - start\n",
    "\n",
    "sps = algo.total_timesteps / time_elapsed\n",
    "print(f\"Finished training in {time_elapsed:g} seconds ({sps:g} steps/second).\")\n",
    "\n",
    "def generate_gif(agent, env, env_params, filename=\"dqn_agent.gif\", duration=0.1):\n",
    "    frames = []\n",
    "    rng = jax.random.PRNGKey(0)\n",
    "    obs, state = env.reset(rng, env_params)\n",
    "    done = False\n",
    "    while not done:\n",
    "        action = agent.get_action(obs, rng)  # Use the correct method to select action\n",
    "        obs, state, reward, done, _ = env.step(rng, state, action, env_params)\n",
    "        frame = env.render(mode='rgb_array')\n",
    "        frames.append(frame)\n",
    "    imageio.mimsave(filename, frames, duration=duration)\n",
    "\n",
    "# Generate GIF for the trained DQN agent\n",
    "generate_gif(algo, env, env_params, filename=\"dqn_agent.gif\")"
   ]
  },
  {
   "cell_type": "code",
   "execution_count": null,
   "metadata": {},
   "outputs": [],
   "source": []
  }
 ],
 "metadata": {
  "kernelspec": {
   "display_name": "TPML",
   "language": "python",
   "name": "python3"
  },
  "language_info": {
   "codemirror_mode": {
    "name": "ipython",
    "version": 3
   },
   "file_extension": ".py",
   "mimetype": "text/x-python",
   "name": "python",
   "nbconvert_exporter": "python",
   "pygments_lexer": "ipython3",
   "version": "3.11.8"
  }
 },
 "nbformat": 4,
 "nbformat_minor": 2
}
